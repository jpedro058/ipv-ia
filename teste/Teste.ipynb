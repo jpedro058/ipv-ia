{
 "cells": [
  {
   "cell_type": "markdown",
   "id": "6666d13a-7cc7-4a8b-9a09-ee630bfbc69f",
   "metadata": {},
   "source": [
    "# Testes"
   ]
  },
  {
   "cell_type": "code",
   "execution_count": 8,
   "id": "5e0813da-4c6a-4a25-930c-c7fdc12ed60c",
   "metadata": {},
   "outputs": [
    {
     "name": "stdout",
     "output_type": "stream",
     "text": [
      "Hello world\n"
     ]
    }
   ],
   "source": [
    "print(\"Hello world\")"
   ]
  },
  {
   "cell_type": "code",
   "execution_count": 12,
   "id": "e2d7a10b-d1e3-413f-881e-2b478c1e1dd4",
   "metadata": {},
   "outputs": [
    {
     "name": "stdout",
     "output_type": "stream",
     "text": [
      "True\n"
     ]
    }
   ],
   "source": [
    "a = 7\n",
    "b = 7.0\n",
    "print(a == b)"
   ]
  },
  {
   "cell_type": "code",
   "execution_count": 13,
   "id": "d4c50ef8-c06b-4378-90d2-687a452db397",
   "metadata": {},
   "outputs": [
    {
     "name": "stdout",
     "output_type": "stream",
     "text": [
      "False\n"
     ]
    }
   ],
   "source": [
    "a = 7\n",
    "print(True == a)"
   ]
  },
  {
   "cell_type": "code",
   "execution_count": 14,
   "id": "e339cd29-7d21-42b4-bc80-3a21e36f2ade",
   "metadata": {},
   "outputs": [
    {
     "ename": "TypeError",
     "evalue": "can only concatenate str (not \"int\") to str",
     "output_type": "error",
     "traceback": [
      "\u001b[0;31m---------------------------------------------------------------------------\u001b[0m",
      "\u001b[0;31mTypeError\u001b[0m                                 Traceback (most recent call last)",
      "Cell \u001b[0;32mIn[14], line 2\u001b[0m\n\u001b[1;32m      1\u001b[0m a \u001b[38;5;241m=\u001b[39m \u001b[38;5;124m'\u001b[39m\u001b[38;5;124mjoao\u001b[39m\u001b[38;5;124m'\u001b[39m\n\u001b[0;32m----> 2\u001b[0m \u001b[38;5;28mprint\u001b[39m(\u001b[43ma\u001b[49m\u001b[43m \u001b[49m\u001b[38;5;241;43m+\u001b[39;49m\u001b[43m \u001b[49m\u001b[38;5;241;43m5\u001b[39;49m)\n",
      "\u001b[0;31mTypeError\u001b[0m: can only concatenate str (not \"int\") to str"
     ]
    }
   ],
   "source": [
    "a = 'joao'\n",
    "print(a + 5)"
   ]
  },
  {
   "cell_type": "code",
   "execution_count": 15,
   "id": "0fda9d67-7f72-497f-9f73-6c2b4aa4f9db",
   "metadata": {},
   "outputs": [
    {
     "name": "stdout",
     "output_type": "stream",
     "text": [
      "joaojoao\n"
     ]
    }
   ],
   "source": [
    "a = 'joao'\n",
    "print(2 * a)"
   ]
  },
  {
   "cell_type": "code",
   "execution_count": 16,
   "id": "a6e862de-8ee3-4e6e-ab7e-66a1b783e7d0",
   "metadata": {},
   "outputs": [
    {
     "name": "stdout",
     "output_type": "stream",
     "text": [
      "2.0\n",
      "<class 'float'>\n"
     ]
    }
   ],
   "source": [
    "a = 10.0\n",
    "b = 5\n",
    "c = a // b\n",
    "print(c)\n",
    "print(type(c))"
   ]
  },
  {
   "cell_type": "code",
   "execution_count": 17,
   "id": "7b76e6a8-156c-4fab-aaa2-439359cca865",
   "metadata": {},
   "outputs": [
    {
     "name": "stdout",
     "output_type": "stream",
     "text": [
      "\n",
      " Name: joao\n"
     ]
    }
   ],
   "source": [
    "list = {'nome':'joao'}\n",
    "print(\"Name: {}\".format(list[\"nome\"]))"
   ]
  },
  {
   "cell_type": "code",
   "execution_count": 6,
   "id": "f9160526-8b3a-4e50-b24c-075a7f3ae35f",
   "metadata": {},
   "outputs": [
    {
     "data": {
      "text/plain": [
       "(24,)"
      ]
     },
     "execution_count": 6,
     "metadata": {},
     "output_type": "execute_result"
    }
   ],
   "source": [
    "import sys\n",
    "\n",
    "sys.getsizeof(float())"
   ]
  },
  {
   "cell_type": "markdown",
   "id": "c63aba44",
   "metadata": {},
   "source": [
    "#First Problem"
   ]
  },
  {
   "cell_type": "code",
   "execution_count": 14,
   "id": "df7d8f83",
   "metadata": {},
   "outputs": [
    {
     "data": {
      "text/plain": [
       "'Nome: joao, Idade: 10, daqui a 10 anos teras 20 anos'"
      ]
     },
     "execution_count": 14,
     "metadata": {},
     "output_type": "execute_result"
    }
   ],
   "source": [
    "nome = input(\"Digite seu nome: \")\n",
    "idade = input(\"Digite sua idade: \")\n",
    "\n",
    "f\"Nome: {nome}, Idade: {idade}, daqui a 10 anos teras {int(idade) + 10} anos\"\n"
   ]
  },
  {
   "cell_type": "code",
   "execution_count": 2,
   "id": "b94b437c",
   "metadata": {},
   "outputs": [
    {
     "name": "stdout",
     "output_type": "stream",
     "text": [
      "True\n"
     ]
    }
   ],
   "source": [
    "a = 0 \n",
    "\n",
    "if a == 0: \n",
    "    print('True' .format(a))\n",
    "else:\n",
    "    print('False' .format(a))"
   ]
  },
  {
   "cell_type": "code",
   "execution_count": 5,
   "id": "3f1cd45c",
   "metadata": {},
   "outputs": [
    {
     "name": "stdout",
     "output_type": "stream",
     "text": [
      "Welcome\n"
     ]
    }
   ],
   "source": [
    "secret = \"Mary\"\n",
    "\n",
    "password = input(\"Enter your password: \")\n",
    "\n",
    "if password == secret:\n",
    "    print(\"Welcome\")\n",
    "else:\n",
    "    print(\"Wrong password\")"
   ]
  },
  {
   "cell_type": "code",
   "execution_count": 6,
   "id": "8db8a762",
   "metadata": {},
   "outputs": [
    {
     "name": "stdout",
     "output_type": "stream",
     "text": [
      "You are an adult\n"
     ]
    }
   ],
   "source": [
    "minor = 18\n",
    "adult = 65\n",
    "senior = 80\n",
    "\n",
    "age = int(input(\"Enter your age: \"))\n",
    "\n",
    "if age <= minor:\n",
    "    print(\"You are a minor\")\n",
    "elif age <= adult:\n",
    "    print(\"You are an adult\")\n",
    "elif age <= senior:\n",
    "    print(\"You are a senior\")\n",
    "else:\n",
    "    print(\"You are a super senior\")"
   ]
  },
  {
   "cell_type": "code",
   "execution_count": 7,
   "id": "0ca9e3e4",
   "metadata": {},
   "outputs": [
    {
     "name": "stdout",
     "output_type": "stream",
     "text": [
      "10\n",
      "12\n",
      "14\n",
      "16\n",
      "18\n"
     ]
    }
   ],
   "source": [
    "for i in range(10, 20 , 2):\n",
    "    print(i)"
   ]
  },
  {
   "cell_type": "code",
   "execution_count": 8,
   "id": "5573655b",
   "metadata": {},
   "outputs": [],
   "source": [
    "for i in range(10, 20 ,-1):\n",
    "    print(i)"
   ]
  },
  {
   "cell_type": "code",
   "execution_count": 14,
   "id": "284fad18",
   "metadata": {},
   "outputs": [
    {
     "name": "stdout",
     "output_type": "stream",
     "text": [
      "M\n",
      "a\n",
      "r\n",
      "y\n"
     ]
    }
   ],
   "source": [
    "for i in \"Mary\":\n",
    "    print(i)"
   ]
  },
  {
   "cell_type": "code",
   "execution_count": 15,
   "id": "fe8c4ee2",
   "metadata": {},
   "outputs": [
    {
     "name": "stdout",
     "output_type": "stream",
     "text": [
      "Maryhadalittlelamb\n"
     ]
    }
   ],
   "source": [
    "sentence = \"Mary had a little lamb\"\n",
    "\n",
    "new_sentence = \"\"\n",
    "\n",
    "for i in sentence:\n",
    "    if i == ' ':\n",
    "        continue\n",
    "    new_sentence = new_sentence + i\n",
    "print(new_sentence)"
   ]
  },
  {
   "cell_type": "code",
   "execution_count": 20,
   "id": "2d6391ed",
   "metadata": {},
   "outputs": [
    {
     "name": "stdout",
     "output_type": "stream",
     "text": [
      "0.5\n"
     ]
    }
   ],
   "source": [
    "def x_dividing_by_y(x, y):\n",
    "    try:\n",
    "        return x / y\n",
    "    except TypeError:\n",
    "        return \"You must enter a number\"\n",
    "    except ZeroDivisionError:\n",
    "        return \"You can't divide by zero\""
   ]
  },
  {
   "cell_type": "code",
   "execution_count": 23,
   "id": "64b7a2f4",
   "metadata": {},
   "outputs": [
    {
     "name": "stdout",
     "output_type": "stream",
     "text": [
      "Hello world\n"
     ]
    }
   ],
   "source": [
    "def print_hello_world():\n",
    "    print(\"Hello world\")\n",
    "\n",
    "print_hello_world()"
   ]
  },
  {
   "cell_type": "code",
   "execution_count": 24,
   "id": "d87851b7",
   "metadata": {},
   "outputs": [
    {
     "name": "stdout",
     "output_type": "stream",
     "text": [
      "Hello Mary\n"
     ]
    }
   ],
   "source": [
    "def print_hello(name):\n",
    "    print(\"Hello {}\".format(name))\n",
    "\n",
    "print_hello(\"Mary\")"
   ]
  },
  {
   "cell_type": "markdown",
   "id": "8a2208f5",
   "metadata": {},
   "source": [
    "##Lists"
   ]
  },
  {
   "cell_type": "code",
   "execution_count": 4,
   "id": "0865e3f8",
   "metadata": {},
   "outputs": [
    {
     "data": {
      "text/plain": [
       "str"
      ]
     },
     "execution_count": 4,
     "metadata": {},
     "output_type": "execute_result"
    }
   ],
   "source": [
    "pencil_case = [\"pen\", \"pencil\", \"rubber\", \"ruler\"]\n",
    "pencil_case[1]\n",
    "\n",
    "\n"
   ]
  },
  {
   "cell_type": "code",
   "execution_count": 8,
   "id": "ec3b4d7b",
   "metadata": {},
   "outputs": [
    {
     "data": {
      "text/plain": [
       "'pen2'"
      ]
     },
     "execution_count": 8,
     "metadata": {},
     "output_type": "execute_result"
    }
   ],
   "source": [
    "pencil_case[1] = \"pen2\"\n",
    "pencil_case[1]"
   ]
  },
  {
   "cell_type": "code",
   "execution_count": 7,
   "id": "c9a6851c",
   "metadata": {},
   "outputs": [
    {
     "data": {
      "text/plain": [
       "str"
      ]
     },
     "execution_count": 7,
     "metadata": {},
     "output_type": "execute_result"
    }
   ],
   "source": [
    "type(pencil_case[-1])"
   ]
  },
  {
   "cell_type": "code",
   "execution_count": 9,
   "id": "17625e1f",
   "metadata": {},
   "outputs": [
    {
     "data": {
      "text/plain": [
       "['pen2', 'rubber', 'ruler']"
      ]
     },
     "execution_count": 9,
     "metadata": {},
     "output_type": "execute_result"
    }
   ],
   "source": [
    "pencil_case[1:4]"
   ]
  },
  {
   "cell_type": "code",
   "execution_count": 10,
   "id": "307b5dcd",
   "metadata": {},
   "outputs": [
    {
     "data": {
      "text/plain": [
       "['pen2', 'rubber', 'ruler']"
      ]
     },
     "execution_count": 10,
     "metadata": {},
     "output_type": "execute_result"
    }
   ],
   "source": [
    "pencil_case[1:]"
   ]
  },
  {
   "cell_type": "code",
   "execution_count": 15,
   "id": "6aff1c14",
   "metadata": {},
   "outputs": [
    {
     "data": {
      "text/plain": [
       "4"
      ]
     },
     "execution_count": 15,
     "metadata": {},
     "output_type": "execute_result"
    }
   ],
   "source": [
    "len(pencil_case)"
   ]
  },
  {
   "cell_type": "code",
   "execution_count": 11,
   "id": "4194b62e",
   "metadata": {},
   "outputs": [],
   "source": [
    "mixed_list = [[1,2,3], [\"pen\", \"pencil\", \"rubber\", \"ruler\"]]"
   ]
  },
  {
   "cell_type": "code",
   "execution_count": 14,
   "id": "c7913c08",
   "metadata": {},
   "outputs": [
    {
     "data": {
      "text/plain": [
       "'pencil'"
      ]
     },
     "execution_count": 14,
     "metadata": {},
     "output_type": "execute_result"
    }
   ],
   "source": [
    "mixed_list[1][1]"
   ]
  },
  {
   "cell_type": "code",
   "execution_count": 16,
   "id": "0f8b5e4e",
   "metadata": {},
   "outputs": [],
   "source": [
    "numbers = [1,2,3]\n",
    "letters = [\"a\", \"b\", \"c\", \"d\"]"
   ]
  },
  {
   "cell_type": "code",
   "execution_count": 17,
   "id": "b2762245",
   "metadata": {},
   "outputs": [
    {
     "data": {
      "text/plain": [
       "[1, 2, 3, 'a', 'b', 'c', 'd']"
      ]
     },
     "execution_count": 17,
     "metadata": {},
     "output_type": "execute_result"
    }
   ],
   "source": [
    "numbers + letters"
   ]
  },
  {
   "cell_type": "code",
   "execution_count": 19,
   "id": "a0099877",
   "metadata": {},
   "outputs": [
    {
     "name": "stdout",
     "output_type": "stream",
     "text": [
      "['joao']\n",
      "['joao', 'maria']\n",
      "['joao', 'maria', 'bob']\n"
     ]
    }
   ],
   "source": [
    "friends = []\n",
    "while True:\n",
    "    friend = input(\"Enter a friend's name: \")\n",
    "    if friend == \"exit\":\n",
    "        break\n",
    "    friends.append(friend)\n",
    "    print(friends)"
   ]
  },
  {
   "cell_type": "code",
   "execution_count": 1,
   "id": "cbb5b87e",
   "metadata": {},
   "outputs": [
    {
     "ename": "NameError",
     "evalue": "name 'brand' is not defined",
     "output_type": "error",
     "traceback": [
      "\u001b[0;31m---------------------------------------------------------------------------\u001b[0m",
      "\u001b[0;31mNameError\u001b[0m                                 Traceback (most recent call last)",
      "Cell \u001b[0;32mIn[1], line 1\u001b[0m\n\u001b[0;32m----> 1\u001b[0m car \u001b[38;5;241m=\u001b[39m {\u001b[43mbrand\u001b[49m : \u001b[38;5;124m\"\u001b[39m\u001b[38;5;124mFord\u001b[39m\u001b[38;5;124m\"\u001b[39m, model : \u001b[38;5;124m\"\u001b[39m\u001b[38;5;124mFocus\u001b[39m\u001b[38;5;124m\"\u001b[39m, year : \u001b[38;5;241m2023\u001b[39m}\n\u001b[1;32m      2\u001b[0m car \n",
      "\u001b[0;31mNameError\u001b[0m: name 'brand' is not defined"
     ]
    }
   ],
   "source": [
    "car = {brand : \"Ford\", model : \"Focus\", year : 2023}\n",
    "car "
   ]
  },
  {
   "cell_type": "markdown",
   "id": "4961cfb8",
   "metadata": {},
   "source": [
    "#DICTIONARY"
   ]
  },
  {
   "cell_type": "code",
   "execution_count": 4,
   "id": "d3faf060",
   "metadata": {},
   "outputs": [
    {
     "name": "stdout",
     "output_type": "stream",
     "text": [
      "{'joao': ''}\n",
      "{}\n"
     ]
    }
   ],
   "source": [
    "while True:\n",
    "    names={}\n",
    "    input_name = input(\"Enter a name: \")\n",
    "\n",
    "    if input_name == \"exit\":\n",
    "        print(names)\n",
    "        break\n",
    "    elif input_name in names:\n",
    "        print(\"Name already in the dictionary\")\n",
    "    else:\n",
    "        names[input_name] = input(\"Enter your age: \")\n",
    "        print(names)\n",
    "\n",
    "  "
   ]
  },
  {
   "cell_type": "code",
   "execution_count": null,
   "id": "51457b25",
   "metadata": {},
   "outputs": [],
   "source": [
    "picnic = {\"sandwiches\" : 4, \"apples\" : 12, \"cups\" : 4, \"cookies\" : 8000}\n",
    "\n",
    "print(\"i will take\" + str(picnic.get(\"apples\", 0)) + \"apples\")"
   ]
  },
  {
   "cell_type": "markdown",
   "id": "80070122",
   "metadata": {},
   "source": [
    "#COUNT LETTERS IN A STRING"
   ]
  },
  {
   "cell_type": "code",
   "execution_count": 6,
   "id": "4d44699e",
   "metadata": {},
   "outputs": [
    {
     "data": {
      "text/plain": [
       "{'m': 2,\n",
       " 'a': 4,\n",
       " 'r': 1,\n",
       " 'y': 1,\n",
       " ' ': 4,\n",
       " 'h': 1,\n",
       " 'd': 1,\n",
       " 'l': 3,\n",
       " 'i': 1,\n",
       " 't': 2,\n",
       " 'e': 1,\n",
       " 'b': 1}"
      ]
     },
     "execution_count": 6,
     "metadata": {},
     "output_type": "execute_result"
    }
   ],
   "source": [
    "string = \"Mary had a little lamb\"\n",
    "count = {}\n",
    "\n",
    "for i in string.lower():\n",
    "    count[i] = count.get(i, 0) + 1\n",
    "\n",
    "count"
   ]
  },
  {
   "cell_type": "markdown",
   "id": "13234519",
   "metadata": {},
   "source": [
    "#CLASSES"
   ]
  },
  {
   "cell_type": "code",
   "execution_count": 7,
   "id": "868ecbe4",
   "metadata": {},
   "outputs": [],
   "source": [
    "class myFirstClass:\n",
    "    welcome = \"Hello world\"\n",
    "    def welcome_method(self):\n",
    "        return self.welcome"
   ]
  },
  {
   "cell_type": "code",
   "execution_count": 6,
   "id": "f356ce24",
   "metadata": {},
   "outputs": [
    {
     "data": {
      "text/plain": [
       "'Hello world'"
      ]
     },
     "execution_count": 6,
     "metadata": {},
     "output_type": "execute_result"
    }
   ],
   "source": [
    "my_first_instance = myFirstClass()\n",
    "my_first_instance.welcome_method()"
   ]
  },
  {
   "cell_type": "code",
   "execution_count": 14,
   "id": "8c76c579",
   "metadata": {},
   "outputs": [],
   "source": [
    "class Employee:\n",
    "    total_number_of_employees = 0\n",
    "    def __init__(self, name, age, salary):\n",
    "        self.name = name\n",
    "        self.age = age\n",
    "        self.salary = salary\n",
    "        Employee.total_number_of_employees += 1\n",
    "    \n",
    "    def present_total_numbers_of_employee(self):\n",
    "        print(\"Total number of employees: {}\".format(Employee.total_number_of_employees))\n",
    "    \n",
    "    def present_employee(self):\n",
    "        print(\"Name: {}, Age: {}, Salary: {}\".format(self.name, self.age, self.salary))"
   ]
  },
  {
   "cell_type": "code",
   "execution_count": 15,
   "id": "c1517429",
   "metadata": {},
   "outputs": [
    {
     "name": "stdout",
     "output_type": "stream",
     "text": [
      "Name: Mary, Age: 25, Salary: 1000\n",
      "Name: John, Age: 30, Salary: 2000\n",
      "Total number of employees: 2\n"
     ]
    }
   ],
   "source": [
    "employee = Employee(\"Mary\", 25, 1000)\n",
    "employee.present_employee()\n",
    "\n",
    "employee2 = Employee(\"John\", 30, 2000)\n",
    "employee2.present_employee()\n",
    "\n",
    "employee.present_total_numbers_of_employee()"
   ]
  },
  {
   "cell_type": "code",
   "execution_count": 17,
   "id": "a98f08e4",
   "metadata": {},
   "outputs": [],
   "source": [
    "class Car:\n",
    "    total_number_of_cars = 0\n",
    "    def __init__(self, brand, model, year):\n",
    "        self.brand = brand\n",
    "        self.model = model\n",
    "        self.year = year\n",
    "        Car.total_number_of_cars += 1\n",
    "\n",
    "    def present_car(self):\n",
    "        print(\"Brand: {}, Model: {}, Year: {}\".format(self.brand, self.model, self.year))"
   ]
  },
  {
   "cell_type": "code",
   "execution_count": 18,
   "id": "94ff7211",
   "metadata": {},
   "outputs": [
    {
     "name": "stdout",
     "output_type": "stream",
     "text": [
      "Brand: Ford, Model: Focus, Year: 2023\n",
      "Brand: Toyota, Model: Corolla, Year: 2023\n"
     ]
    }
   ],
   "source": [
    "car1 = Car(\"Ford\", \"Focus\", 2023)\n",
    "car1.present_car()\n",
    "\n",
    "car2 = Car(\"Toyota\", \"Corolla\", 2023)\n",
    "car2.present_car()"
   ]
  }
 ],
 "metadata": {
  "kernelspec": {
   "display_name": "Python 3 (ipykernel)",
   "language": "python",
   "name": "python3"
  },
  "language_info": {
   "codemirror_mode": {
    "name": "ipython",
    "version": 3
   },
   "file_extension": ".py",
   "mimetype": "text/x-python",
   "name": "python",
   "nbconvert_exporter": "python",
   "pygments_lexer": "ipython3",
   "version": "3.9.6"
  }
 },
 "nbformat": 4,
 "nbformat_minor": 5
}
